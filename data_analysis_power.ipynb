{
 "cells": [
  {
   "cell_type": "code",
   "execution_count": 1,
   "id": "4b587d3d",
   "metadata": {},
   "outputs": [],
   "source": [
    "import numpy as np\n",
    "import pandas as pd\n",
    "import matplotlib.pyplot as plt"
   ]
  },
  {
   "cell_type": "markdown",
   "id": "778b6218",
   "metadata": {},
   "source": [
    "### Angle Model Power\n",
    "\n",
    "For the Angle Model"
   ]
  },
  {
   "cell_type": "code",
   "execution_count": 14,
   "id": "5dfc3985",
   "metadata": {},
   "outputs": [
    {
     "data": {
      "text/html": [
       "<div>\n",
       "<style scoped>\n",
       "    .dataframe tbody tr th:only-of-type {\n",
       "        vertical-align: middle;\n",
       "    }\n",
       "\n",
       "    .dataframe tbody tr th {\n",
       "        vertical-align: top;\n",
       "    }\n",
       "\n",
       "    .dataframe thead th {\n",
       "        text-align: right;\n",
       "    }\n",
       "</style>\n",
       "<table border=\"1\" class=\"dataframe\">\n",
       "  <thead>\n",
       "    <tr style=\"text-align: right;\">\n",
       "      <th></th>\n",
       "      <th>time [s]</th>\n",
       "      <th>power_tpu_idle [W]</th>\n",
       "      <th>power_vpu_idle [W]</th>\n",
       "      <th>power_tpu_inference [W]</th>\n",
       "      <th>power_vpu_inference [W]</th>\n",
       "    </tr>\n",
       "  </thead>\n",
       "  <tbody>\n",
       "    <tr>\n",
       "      <th>0</th>\n",
       "      <td>0</td>\n",
       "      <td>0.369</td>\n",
       "      <td>0.64</td>\n",
       "      <td>1.240</td>\n",
       "      <td>1.598</td>\n",
       "    </tr>\n",
       "    <tr>\n",
       "      <th>1</th>\n",
       "      <td>1</td>\n",
       "      <td>0.370</td>\n",
       "      <td>0.64</td>\n",
       "      <td>1.242</td>\n",
       "      <td>1.598</td>\n",
       "    </tr>\n",
       "    <tr>\n",
       "      <th>2</th>\n",
       "      <td>2</td>\n",
       "      <td>0.370</td>\n",
       "      <td>0.64</td>\n",
       "      <td>1.243</td>\n",
       "      <td>1.598</td>\n",
       "    </tr>\n",
       "    <tr>\n",
       "      <th>3</th>\n",
       "      <td>3</td>\n",
       "      <td>0.370</td>\n",
       "      <td>0.64</td>\n",
       "      <td>1.241</td>\n",
       "      <td>1.599</td>\n",
       "    </tr>\n",
       "    <tr>\n",
       "      <th>4</th>\n",
       "      <td>4</td>\n",
       "      <td>0.370</td>\n",
       "      <td>0.64</td>\n",
       "      <td>1.237</td>\n",
       "      <td>1.600</td>\n",
       "    </tr>\n",
       "  </tbody>\n",
       "</table>\n",
       "</div>"
      ],
      "text/plain": [
       "   time [s]  power_tpu_idle [W]  power_vpu_idle [W]  power_tpu_inference [W]  \\\n",
       "0         0               0.369                0.64                    1.240   \n",
       "1         1               0.370                0.64                    1.242   \n",
       "2         2               0.370                0.64                    1.243   \n",
       "3         3               0.370                0.64                    1.241   \n",
       "4         4               0.370                0.64                    1.237   \n",
       "\n",
       "   power_vpu_inference [W]  \n",
       "0                    1.598  \n",
       "1                    1.598  \n",
       "2                    1.598  \n",
       "3                    1.599  \n",
       "4                    1.600  "
      ]
     },
     "execution_count": 14,
     "metadata": {},
     "output_type": "execute_result"
    }
   ],
   "source": [
    "angle_power_data = pd.read_csv(\"angle_test/model_py/power_meas_usb/power_measurements.csv\")\n",
    "\n",
    "angle_power_data.head(5)"
   ]
  },
  {
   "cell_type": "markdown",
   "id": "d6119266",
   "metadata": {},
   "source": [
    "### PID Model Power\n",
    "\n",
    "For the PID Model"
   ]
  },
  {
   "cell_type": "code",
   "execution_count": 15,
   "id": "754971fe",
   "metadata": {},
   "outputs": [
    {
     "data": {
      "text/html": [
       "<div>\n",
       "<style scoped>\n",
       "    .dataframe tbody tr th:only-of-type {\n",
       "        vertical-align: middle;\n",
       "    }\n",
       "\n",
       "    .dataframe tbody tr th {\n",
       "        vertical-align: top;\n",
       "    }\n",
       "\n",
       "    .dataframe thead th {\n",
       "        text-align: right;\n",
       "    }\n",
       "</style>\n",
       "<table border=\"1\" class=\"dataframe\">\n",
       "  <thead>\n",
       "    <tr style=\"text-align: right;\">\n",
       "      <th></th>\n",
       "      <th>time [s]</th>\n",
       "      <th>power_tpu_idle [W]</th>\n",
       "      <th>power_vpu_idle [W]</th>\n",
       "      <th>power_tpu_inference [W]</th>\n",
       "      <th>power_vpu_inference [W]</th>\n",
       "    </tr>\n",
       "  </thead>\n",
       "  <tbody>\n",
       "    <tr>\n",
       "      <th>0</th>\n",
       "      <td>0</td>\n",
       "      <td>0.369</td>\n",
       "      <td>0.64</td>\n",
       "      <td>1.225</td>\n",
       "      <td>1.805</td>\n",
       "    </tr>\n",
       "    <tr>\n",
       "      <th>1</th>\n",
       "      <td>1</td>\n",
       "      <td>0.370</td>\n",
       "      <td>0.64</td>\n",
       "      <td>1.257</td>\n",
       "      <td>1.830</td>\n",
       "    </tr>\n",
       "    <tr>\n",
       "      <th>2</th>\n",
       "      <td>2</td>\n",
       "      <td>0.370</td>\n",
       "      <td>0.64</td>\n",
       "      <td>1.222</td>\n",
       "      <td>1.830</td>\n",
       "    </tr>\n",
       "    <tr>\n",
       "      <th>3</th>\n",
       "      <td>3</td>\n",
       "      <td>0.370</td>\n",
       "      <td>0.64</td>\n",
       "      <td>1.257</td>\n",
       "      <td>1.836</td>\n",
       "    </tr>\n",
       "    <tr>\n",
       "      <th>4</th>\n",
       "      <td>4</td>\n",
       "      <td>0.370</td>\n",
       "      <td>0.64</td>\n",
       "      <td>1.257</td>\n",
       "      <td>1.836</td>\n",
       "    </tr>\n",
       "  </tbody>\n",
       "</table>\n",
       "</div>"
      ],
      "text/plain": [
       "   time [s]  power_tpu_idle [W]  power_vpu_idle [W]  power_tpu_inference [W]  \\\n",
       "0         0               0.369                0.64                    1.225   \n",
       "1         1               0.370                0.64                    1.257   \n",
       "2         2               0.370                0.64                    1.222   \n",
       "3         3               0.370                0.64                    1.257   \n",
       "4         4               0.370                0.64                    1.257   \n",
       "\n",
       "   power_vpu_inference [W]  \n",
       "0                    1.805  \n",
       "1                    1.830  \n",
       "2                    1.830  \n",
       "3                    1.836  \n",
       "4                    1.836  "
      ]
     },
     "execution_count": 15,
     "metadata": {},
     "output_type": "execute_result"
    }
   ],
   "source": [
    "pid_power_data = pd.read_csv(\"pid_test/model_py/power_meas_usb/power_measurements.csv\")\n",
    "\n",
    "pid_power_data.head(5)"
   ]
  },
  {
   "cell_type": "markdown",
   "id": "819c7610",
   "metadata": {},
   "source": [
    "### The Comparison of Power Consumption"
   ]
  },
  {
   "cell_type": "code",
   "execution_count": 22,
   "id": "c13fdcfc",
   "metadata": {},
   "outputs": [
    {
     "data": {
      "image/png": "[encoded data removed]",
      "text/plain": [
       "<Figure size 500x500 with 1 Axes>"
      ]
     },
     "metadata": {},
     "output_type": "display_data"
    }
   ],
   "source": [
    "plt.rcParams.update({'font.sans-serif':'Arial'})\n",
    "\n",
    "fig, ax = plt.subplots(1,1, figsize=(5,5))\n",
    "\n",
    "xlabels = ['Idle', 'Angle Model', 'PID Model']\n",
    "\n",
    "yvalues_tpu = [angle_power_data['power_tpu_idle [W]'].mean(), angle_power_data['power_tpu_inference [W]'].mean(), pid_power_data['power_tpu_inference [W]'].mean()]\n",
    "yerr_tpu = [angle_power_data['power_tpu_idle [W]'].std(), angle_power_data['power_tpu_inference [W]'].std(), pid_power_data['power_tpu_inference [W]'].std()]\n",
    "\n",
    "yvalues_vpu = [angle_power_data['power_vpu_idle [W]'].mean(), angle_power_data['power_vpu_inference [W]'].mean(), pid_power_data['power_vpu_inference [W]'].mean()]\n",
    "yerr_vpu = [angle_power_data['power_vpu_idle [W]'].std(), angle_power_data['power_vpu_inference [W]'].std(), pid_power_data['power_vpu_inference [W]'].std()]\n",
    "\n",
    "ax.bar(np.arange(len(xlabels)) - 0.1, yvalues_tpu, yerr=yerr_tpu, width=0.2, label='TPU', color='coral', capsize=5)\n",
    "ax.bar(np.arange(len(xlabels)) + 0.1, yvalues_vpu, yerr=yerr_vpu, width=0.2, label='VPU', color='navy', capsize=5, ecolor='red')\n",
    "\n",
    "ax.set_title('Power Evaluation')\n",
    "ax.set_ylabel('Power Consumption [W]')\n",
    "ax.set_xticks(range(len(xlabels)), xlabels)\n",
    "ax.legend()\n",
    "\n",
    "fig.savefig(\"graphs/power_evaluation.pdf\")"
   ]
  },
  {
   "cell_type": "code",
   "execution_count": null,
   "id": "9fa89631",
   "metadata": {},
   "outputs": [],
   "source": []
  }
 ],
 "metadata": {
  "kernelspec": {
   "display_name": "Python 3 (ipykernel)",
   "language": "python",
   "name": "python3"
  },
  "language_info": {
   "codemirror_mode": {
    "name": "ipython",
    "version": 3
   },
   "file_extension": ".py",
   "mimetype": "text/x-python",
   "name": "python",
   "nbconvert_exporter": "python",
   "pygments_lexer": "ipython3",
   "version": "3.8.17"
  }
 },
 "nbformat": 4,
 "nbformat_minor": 5
}
